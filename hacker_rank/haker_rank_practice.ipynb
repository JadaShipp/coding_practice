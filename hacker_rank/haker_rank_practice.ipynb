{
 "cells": [
  {
   "cell_type": "code",
   "execution_count": 1,
   "metadata": {},
   "outputs": [],
   "source": [
    "import math\n",
    "import os\n",
    "import random\n",
    "import re\n",
    "import sys\n"
   ]
  },
  {
   "cell_type": "code",
   "execution_count": 2,
   "metadata": {},
   "outputs": [],
   "source": [
    "# Complete the compareTriplets function below.\n",
    "def compareTriplets(a, b):\n",
    "    Alice = 0\n",
    "    Bob = 0\n",
    "    if a[0] > b[0]:\n",
    "        Alice = Alice + 1\n",
    "    if a[0] < b[0]:\n",
    "        Bob = Bob + 1\n",
    "    if a[1] > b[1]:\n",
    "        Alice = Alice + 1\n",
    "    if a[1] < b[1]:\n",
    "        Bob = Bob + 1\n",
    "    if a[2] > b[2]:\n",
    "        Alice = Alice + 1\n",
    "    if a[2] < b[2]:\n",
    "        Bob = Bob + 1\n",
    "    return Alice, Bob\n"
   ]
  },
  {
   "cell_type": "code",
   "execution_count": 3,
   "metadata": {},
   "outputs": [],
   "source": [
    "a = [5, 6, 7]\n",
    "b = [3, 6, 10]"
   ]
  },
  {
   "cell_type": "code",
   "execution_count": 4,
   "metadata": {},
   "outputs": [
    {
     "data": {
      "text/plain": [
       "(1, 1)"
      ]
     },
     "execution_count": 4,
     "metadata": {},
     "output_type": "execute_result"
    }
   ],
   "source": [
    "compareTriplets(a,b)"
   ]
  },
  {
   "cell_type": "code",
   "execution_count": 5,
   "metadata": {},
   "outputs": [],
   "source": [
    "a = [17, 28, 30]\n",
    "b = [99, 16, 8]"
   ]
  },
  {
   "cell_type": "code",
   "execution_count": 6,
   "metadata": {},
   "outputs": [
    {
     "data": {
      "text/plain": [
       "(2, 1)"
      ]
     },
     "execution_count": 6,
     "metadata": {},
     "output_type": "execute_result"
    }
   ],
   "source": [
    "compareTriplets(a,b)"
   ]
  },
  {
   "cell_type": "code",
   "execution_count": 7,
   "metadata": {},
   "outputs": [],
   "source": [
    "a = [17, 28, 30]\n",
    "b = [17, 16, 8]"
   ]
  },
  {
   "cell_type": "code",
   "execution_count": 8,
   "metadata": {},
   "outputs": [
    {
     "data": {
      "text/plain": [
       "(2, 0)"
      ]
     },
     "execution_count": 8,
     "metadata": {},
     "output_type": "execute_result"
    }
   ],
   "source": [
    "compareTriplets(a,b)"
   ]
  },
  {
   "cell_type": "code",
   "execution_count": 9,
   "metadata": {},
   "outputs": [],
   "source": [
    "def aVeryBigSum(n, ar):\n",
    "    sum = 0\n",
    "    for i in range(len(ar)):\n",
    "        sum+=ar[i]\n",
    "    return sum"
   ]
  },
  {
   "cell_type": "code",
   "execution_count": 10,
   "metadata": {},
   "outputs": [],
   "source": [
    "ar = [1000000001, 1000000002, 1000000003, 1000000004, 1000000005]"
   ]
  },
  {
   "cell_type": "code",
   "execution_count": 11,
   "metadata": {},
   "outputs": [
    {
     "data": {
      "text/plain": [
       "5000000015"
      ]
     },
     "execution_count": 11,
     "metadata": {},
     "output_type": "execute_result"
    }
   ],
   "source": [
    "aVeryBigSum(5, ar)"
   ]
  },
  {
   "cell_type": "markdown",
   "metadata": {},
   "source": [
    "# SQL Practice"
   ]
  },
  {
   "cell_type": "markdown",
   "metadata": {},
   "source": [
    "![image](city_hacker_rank.png)"
   ]
  },
  {
   "cell_type": "markdown",
   "metadata": {},
   "source": [
    "Query all columns for a city in CITY with the ID 1661.\n",
    "\n",
    "- Select *\n",
    "- From CITY\n",
    "- Where ID = 1661"
   ]
  },
  {
   "cell_type": "markdown",
   "metadata": {},
   "source": [
    "Query all attributes of every Japanese city in the CITY table. The COUNTRYCODE for Japan is JPN.\n",
    "\n",
    "- SELECT *\n",
    "- From CITY\n",
    "- WHERE COUNTRYCODE = 'JPN';"
   ]
  },
  {
   "cell_type": "markdown",
   "metadata": {},
   "source": [
    "Query the names of all the Japanese cities in the CITY table. The COUNTRYCODE for Japan is JPN. "
   ]
  },
  {
   "cell_type": "markdown",
   "metadata": {},
   "source": [
    "- Select Name \n",
    "- From CITY\n",
    "- Where COUNTRYCODE = 'JPN';\n",
    "\n"
   ]
  },
  {
   "cell_type": "markdown",
   "metadata": {},
   "source": [
    "![station](station_hacker_rank.png)"
   ]
  },
  {
   "cell_type": "markdown",
   "metadata": {},
   "source": [
    "Query a list of CITY names from STATION for cities that have an even ID number. Print the results in any order, but exclude duplicates from the answer. "
   ]
  },
  {
   "cell_type": "markdown",
   "metadata": {},
   "source": [
    "- Select Distinct CITY\n",
    "- FROM STATION\n",
    "- Where mod(ID,2) = 0\n",
    "- Order by CITY DESC;"
   ]
  },
  {
   "cell_type": "markdown",
   "metadata": {},
   "source": [
    "Find the difference between the total number of CITY entries in the table and the number of distinct CITY entries in the table."
   ]
  },
  {
   "cell_type": "markdown",
   "metadata": {},
   "source": [
    "- SELECT COUNT(City) - COUNT(DISTINCT City) \n",
    "- FROM STATION;"
   ]
  },
  {
   "cell_type": "markdown",
   "metadata": {},
   "source": [
    "Query the two cities in STATION with the shortest and longest CITY names, as well as their respective lengths (i.e.: number of characters in the name). If there is more than one smallest or largest city, choose the one that comes first when ordered alphabetically."
   ]
  },
  {
   "cell_type": "markdown",
   "metadata": {},
   "source": [
    "- SELECT CITY,LENGTH(CITY)\n",
    "- FROM STATION\n",
    "- WHERE LENGTH(CITY) IN (\n",
    "    >-  SELECT MAX(LENGTH(CITY))\n",
    "    >-  FROM STATION\n",
    "    >- UNION\n",
    "    >- SELECT MIN(LENGTH(CITY))\n",
    "    >- FROM STATION)\n",
    "    >- ORDER BY LENGTH(CITY) DESC,CITY ASC LIMIT 2;"
   ]
  },
  {
   "cell_type": "markdown",
   "metadata": {},
   "source": [
    "Query the list of CITY names starting with vowels (i.e., a, e, i, o, or u) from STATION. Your result cannot contain duplicates.\n",
    "\n",
    "- SELECT CITY\n",
    "- FROM STATION\n",
    "- Where CITY REGEXP '^[aeiou]';"
   ]
  },
  {
   "cell_type": "markdown",
   "metadata": {},
   "source": [
    "Query the list of CITY names ending with vowels (a, e, i, o, u) from STATION. Your result cannot contain duplicates.\n",
    "\n",
    "- SELECT DISTINCT CITY \n",
    "- FROM STATION \n",
    "- WHERE CITY REGEXP '[aeiou]$'"
   ]
  },
  {
   "cell_type": "markdown",
   "metadata": {},
   "source": [
    "Query the list of CITY names from STATION which have vowels (i.e., a, e, i, o, and u) as both their first and last characters. Your result cannot contain duplicates.\n",
    "\n",
    "- Select Distinct city\n",
    "- From   station\n",
    "- Where  REGEXP_LIKE(city,'[aeiou].*[aeiou]')"
   ]
  },
  {
   "cell_type": "markdown",
   "metadata": {},
   "source": [
    "Query the list of CITY names from STATION which have vowels (i.e., a, e, i, o, and u) as both their first and last characters. Your result cannot contain duplicates.\n",
    "- SELECT DISTINCT city\n",
    "- FROM   station\n",
    "- WHERE  city RLIKE '^[aeiouAEIOU].*[aeiouAEIOU]$'"
   ]
  },
  {
   "cell_type": "markdown",
   "metadata": {},
   "source": [
    "Query the list of CITY names from STATION that do not start with vowels. Your result cannot contain duplicates.\n",
    "\n",
    "- SELECT DISTINCT CITY \n",
    "- FROM STATION \n",
    "- WHERE CITY RLIKE '^[^aeiou].*'"
   ]
  },
  {
   "cell_type": "markdown",
   "metadata": {},
   "source": [
    "Query the list of CITY names from STATION that do not end with vowels. Your result cannot contain duplicates.\n",
    "\n",
    "- SELECT DISTINCT (CITY) \n",
    "- FROM STATION \n",
    "- WHERE NOT regexp_like(lower(CITY),'[aeiou]$');"
   ]
  },
  {
   "cell_type": "markdown",
   "metadata": {},
   "source": [
    "Query the list of CITY names from STATION that either do not start with vowels or do not end with vowels. Your result cannot contain duplicates."
   ]
  },
  {
   "cell_type": "markdown",
   "metadata": {},
   "source": [
    "- SELECT DISTINCT CITY\n",
    "- FROM STATION\n",
    "- WHERE (NOT(CITY  Like 'A%' OR CITY LIKE 'E%' OR CITY LIKE 'O%' OR CITY LIKE 'I%' OR CITY LIKE 'U%'))\n",
    "- \t\tOR \n",
    "- \t  (NOT (CITY LIKE '%a' OR CITY  LIKE '%e' OR CITY LIKE '%i' OR CITY LIKE '%o' OR CITY LIKE '%u'))\n",
    "- ORDER BY CITY;"
   ]
  },
  {
   "cell_type": "markdown",
   "metadata": {},
   "source": [
    "Query the list of CITY names from STATION that do not start with vowels and do not end with vowels. Your result cannot contain duplicates.\n",
    "\n",
    "- SELECT DISTINCT CITY \n",
    "- FROM STATION \n",
    "- WHERE CITY REGEXP '^[^aeiou].*[^aeiou]$';\n"
   ]
  },
  {
   "cell_type": "markdown",
   "metadata": {},
   "source": [
    "![student](student_input_haker_rank.png)"
   ]
  },
  {
   "cell_type": "markdown",
   "metadata": {},
   "source": [
    "![student](sudent_format.png)"
   ]
  },
  {
   "cell_type": "markdown",
   "metadata": {},
   "source": [
    "Query the Name of any student in STUDENTS who scored higher than  Marks. Order your output by the last three characters of each name. If two or more students both have names ending in the same last three characters (i.e.: Bobby, Robby, etc.), secondary sort them by ascending ID.\n",
    "\n",
    "- SELECT Name\n",
    "- FROM STUDENTS\n",
    "- WHERE Marks > 75\n",
    "- ORDER BY RIGHT(NAME, 3), ID ASC"
   ]
  },
  {
   "cell_type": "markdown",
   "metadata": {},
   "source": [
    "Write a query that prints a list of employee names (i.e.: the name attribute) from the Employee table in alphabetical order\n",
    "\n",
    "- Select name\n",
    "- From Employee\n",
    "- Order by name"
   ]
  },
  {
   "cell_type": "markdown",
   "metadata": {},
   "source": [
    "![employee](employee_hacker_rank.png)"
   ]
  },
  {
   "cell_type": "markdown",
   "metadata": {},
   "source": [
    "Write a query that prints a list of employee names (i.e.: the name attribute) for employees in Employee having a salary greater than $2000 per month who have been employees for less than  months. Sort your result by ascending employee_id.\n",
    "\n",
    "- Select name\n",
    "- from EMPLOYEE\n",
    "- Where salary > 2000 AND months < 10\n",
    "- ORDER BY employee_id;"
   ]
  },
  {
   "cell_type": "markdown",
   "metadata": {},
   "source": [
    "SELECT c.company_code, c.founder, \n",
    "       COUNT(DISTINCT l.lead_manager_code), COUNT(DISTINCT s.senior_manager_code),\n",
    "       COUNT(DISTINCT m.manager_code), COUNT(DISTINCT e.employee_code)\n",
    "FROM Company c, Lead_Manager l, Senior_Manager s, Manager m, Employee e\n",
    "WHERE c.company_code = l.company_code AND \n",
    "      l.lead_manager_code = s.lead_manager_code AND\n",
    "      s.senior_manager_code = m.senior_manager_code AND\n",
    "      m.manager_code = e.manager_code\n",
    "GROUP BY c.company_code, c.founder ORDER BY c.company_code;"
   ]
  },
  {
   "cell_type": "markdown",
   "metadata": {},
   "source": [
    "Samantha was tasked with calculating the average monthly salaries for all employees in the EMPLOYEES table, but did not realize her keyboard's 0 key was broken until after completing the calculation. She wants your help finding the difference between her miscalculation (using salaries with any zeroes removed), and the actual average salary.\n",
    "Write a query calculating the amount of error (i.e.: actual-miscaluclated) average monthly salaries), and round it up to the next integer.\n",
    "\n",
    "\n",
    "\n",
    "\n",
    "__SELECT CEIL(AVG(Salary) - AVG(REPLACE(Salary, '0', ''))) FROM EMPLOYEES;__\n"
   ]
  },
  {
   "cell_type": "markdown",
   "metadata": {},
   "source": [
    "Query the Western Longitude (LONG_W) for the largest Northern Latitude (LAT_N) in STATION that is less than . Round your answer to  decimal places.\n",
    "\n",
    "__SELECT ROUND(LONG_W, 4)\n",
    "FROM STATION\n",
    "WHERE LAT_N < 137.2345 \n",
    "ORDER BY LAT_N DESC LIMIT 1;__"
   ]
  },
  {
   "cell_type": "markdown",
   "metadata": {},
   "source": [
    "![manhattan](manhattan_distance.png)"
   ]
  },
  {
   "cell_type": "markdown",
   "metadata": {},
   "source": [
    "__SELECT ROUND(ABS(MIN(LAT_N)-MAX(LAT_N)) + ABS(MIN(LONG_W)-MAX(LONG_W)), 4) FROM STATION;__"
   ]
  },
  {
   "attachments": {},
   "cell_type": "markdown",
   "metadata": {},
   "source": [
    "![euclidean](![euclidean_distance.png](euclidean_distance.png)"
   ]
  },
  {
   "cell_type": "markdown",
   "metadata": {},
   "source": [
    "__SELECT ROUND(SQRT(POW(MIN(LAT_N)-MAX(LAT_N), 2) + POW(MIN(LONG_W)-MAX(LONG_W), 2)), 4) \n",
    "FROM STATION;__"
   ]
  },
  {
   "cell_type": "code",
   "execution_count": null,
   "metadata": {},
   "outputs": [],
   "source": []
  }
 ],
 "metadata": {
  "kernelspec": {
   "display_name": "Python 3",
   "language": "python",
   "name": "python3"
  },
  "language_info": {
   "codemirror_mode": {
    "name": "ipython",
    "version": 3
   },
   "file_extension": ".py",
   "mimetype": "text/x-python",
   "name": "python",
   "nbconvert_exporter": "python",
   "pygments_lexer": "ipython3",
   "version": "3.7.4"
  }
 },
 "nbformat": 4,
 "nbformat_minor": 2
}
